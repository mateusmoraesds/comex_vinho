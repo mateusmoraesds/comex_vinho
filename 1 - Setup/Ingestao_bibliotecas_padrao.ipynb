{
 "cells": [
  {
   "cell_type": "markdown",
   "metadata": {
    "application/vnd.databricks.v1+cell": {
     "cellMetadata": {
      "byteLimit": 2048000,
      "rowLimit": 10000
     },
     "inputWidgets": {},
     "nuid": "50808101-b401-4923-a06b-600bed0c12d3",
     "showTitle": false,
     "tableResultSettingsMap": {},
     "title": ""
    }
   },
   "source": [
    "## Importação de Bibliotecas\n",
    "Serão carregados para os notebooks de modelagem e transformação de dados"
   ]
  },
  {
   "cell_type": "code",
   "execution_count": 0,
   "metadata": {
    "application/vnd.databricks.v1+cell": {
     "cellMetadata": {
      "byteLimit": 2048000,
      "rowLimit": 10000
     },
     "inputWidgets": {},
     "nuid": "d665a8ea-1025-4951-8a49-c3de5282698a",
     "showTitle": true,
     "tableResultSettingsMap": {},
     "title": "Principais Bibliotecas"
    }
   },
   "outputs": [],
   "source": [
    "import pandas as pd\n",
    "import pyspark as py\n",
    "import matplotlib as mp\n",
    "import numpy as np\n",
    "import seaborn as sns\n",
    "import sklearn as sk"
   ]
  },
  {
   "cell_type": "code",
   "execution_count": 0,
   "metadata": {
    "application/vnd.databricks.v1+cell": {
     "cellMetadata": {
      "byteLimit": 2048000,
      "rowLimit": 10000
     },
     "inputWidgets": {},
     "nuid": "d73bf835-11a3-4785-8d7c-e4074923a4fb",
     "showTitle": true,
     "tableResultSettingsMap": {},
     "title": "Principais Funções de data e tipagem de dados"
    }
   },
   "outputs": [],
   "source": [
    "from pyspark.sql.functions import (\n",
    "    col, lit, current_timestamp, current_date,\n",
    "    regexp_replace, when, upper, lower,\n",
    "    date_add, to_date, sha2,from_json\n",
    ")\n",
    "\n",
    "# PySpark session\n",
    "from pyspark.sql import SparkSession\n",
    "from pyspark.sql.types import ArrayType, StringType\n",
    "from pyspark.sql.functions import pandas_udf, PandasUDFType,  split, col\n",
    "\n",
    "spark = SparkSession.getActiveSession()\n",
    "\n",
    "# Python utilities\n",
    "from datetime import datetime\n",
    "import time\n",
    "import random\n",
    "import math\n",
    "import hashlib\n"
   ]
  },
  {
   "cell_type": "code",
   "execution_count": 0,
   "metadata": {
    "application/vnd.databricks.v1+cell": {
     "cellMetadata": {
      "byteLimit": 2048000,
      "rowLimit": 10000
     },
     "inputWidgets": {},
     "nuid": "46568190-a11d-4c70-ab81-98cc82b496c7",
     "showTitle": false,
     "tableResultSettingsMap": {},
     "title": ""
    }
   },
   "outputs": [],
   "source": [
    "spark.conf.set(\"spark.sql.shuffle.partitions\", 200)\n"
   ]
  },
  {
   "cell_type": "code",
   "execution_count": 0,
   "metadata": {
    "application/vnd.databricks.v1+cell": {
     "cellMetadata": {
      "byteLimit": 2048000,
      "rowLimit": 10000
     },
     "inputWidgets": {},
     "nuid": "7b61722c-7800-4324-8c16-c839631b4cd5",
     "showTitle": false,
     "tableResultSettingsMap": {},
     "title": ""
    }
   },
   "outputs": [],
   "source": [
    "def add_metadata_cols(df):\n",
    "    \"\"\"\n",
    "    Adiciona metadata padrão às tabelas.\n",
    "    \"\"\"\n",
    "    return (df\n",
    "            .withColumn(\"ingestao_ts\", current_timestamp())\n",
    "            .withColumn(\"usuario_ingestao\", lit(\"databricks\"))\n",
    "           )"
   ]
  },
  {
   "cell_type": "code",
   "execution_count": 0,
   "metadata": {
    "application/vnd.databricks.v1+cell": {
     "cellMetadata": {
      "byteLimit": 2048000,
      "rowLimit": 10000
     },
     "inputWidgets": {},
     "nuid": "09037974-dedf-4063-90c7-83d385c29e46",
     "showTitle": false,
     "tableResultSettingsMap": {},
     "title": ""
    }
   },
   "outputs": [],
   "source": [
    "print(\"✅ Bibliotecas carregadas com sucesso!\")\n"
   ]
  }
 ],
 "metadata": {
  "application/vnd.databricks.v1+notebook": {
   "computePreferences": null,
   "dashboards": [],
   "environmentMetadata": {
    "base_environment": "",
    "environment_version": "4"
   },
   "inputWidgetPreferences": null,
   "language": "python",
   "notebookMetadata": {
    "pythonIndentUnit": 4
   },
   "notebookName": "Ingestao_bibliotecas_padrao",
   "widgets": {}
  },
  "language_info": {
   "name": "python"
  }
 },
 "nbformat": 4,
 "nbformat_minor": 0
}
