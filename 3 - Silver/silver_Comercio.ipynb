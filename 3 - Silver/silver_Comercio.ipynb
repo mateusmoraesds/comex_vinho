{
 "cells": [
  {
   "cell_type": "markdown",
   "metadata": {
    "application/vnd.databricks.v1+cell": {
     "cellMetadata": {
      "byteLimit": 2048000,
      "rowLimit": 10000
     },
     "inputWidgets": {},
     "nuid": "299e0c95-1968-4047-b356-04a1e0b06c62",
     "showTitle": false,
     "tableResultSettingsMap": {},
     "title": ""
    },
    "jupyter": {
     "outputs_hidden": true
    }
   },
   "source": [
    "## Silver: Comercio"
   ]
  },
  {
   "cell_type": "code",
   "execution_count": 0,
   "metadata": {
    "application/vnd.databricks.v1+cell": {
     "cellMetadata": {
      "byteLimit": 2048000,
      "rowLimit": 10000
     },
     "inputWidgets": {},
     "nuid": "03985f5c-e306-45b0-979e-a560ba7baeb9",
     "showTitle": true,
     "tableResultSettingsMap": {},
     "title": "Importação de bibliotecas e funções padrão"
    }
   },
   "outputs": [],
   "source": [
    "%run \"../1 - Setup/Ingestao_bibliotecas_padrao\"\n"
   ]
  },
  {
   "cell_type": "code",
   "execution_count": 0,
   "metadata": {
    "application/vnd.databricks.v1+cell": {
     "cellMetadata": {
      "byteLimit": 2048000,
      "rowLimit": 10000
     },
     "inputWidgets": {},
     "nuid": "1ea4b60d-6823-42e8-986a-605e1dd46d22",
     "showTitle": false,
     "tableResultSettingsMap": {},
     "title": ""
    }
   },
   "outputs": [],
   "source": [
    "from pyspark.sql.functions import col"
   ]
  },
  {
   "cell_type": "code",
   "execution_count": 0,
   "metadata": {
    "application/vnd.databricks.v1+cell": {
     "cellMetadata": {
      "byteLimit": 2048000,
      "rowLimit": 10000
     },
     "inputWidgets": {},
     "nuid": "75bb4ca4-5813-470a-b3db-60a6595eb13f",
     "showTitle": true,
     "tableResultSettingsMap": {
      "0": {
       "dataGridStateBlob": "{\"version\":1,\"tableState\":{\"columnPinning\":{\"left\":[\"#row_number#\"],\"right\":[]},\"columnSizing\":{\"control\":173,\"Produto\":262},\"columnVisibility\":{}},\"settings\":{\"columns\":{}},\"syncTimestamp\":1761785307486}",
       "filterBlob": null,
       "queryPlanFiltersBlob": null,
       "tableResultIndex": 0
      }
     },
     "title": "Carregando arquivo csv da landing zone"
    }
   },
   "outputs": [],
   "source": [
    "\n",
    "df_original = spark.table(\"vitivinicultura.bronze_comercializacao.comercio\").toPandas()\n",
    "\n",
    "#  Define a coluna que contém os dados separados por \";\"\n",
    "coluna = \"_c0\"\n",
    "\n",
    "#  colunas adicionais \n",
    "colunas_adicionais = [\"ingestao_ts\", \"usuario_ingestao\"]  #\n",
    "df_extra = df_original[colunas_adicionais].copy()\n",
    "\n",
    "#  Quebra a string em colunas separadas\n",
    "linhas = df_original[coluna].str.split(';', expand=True)\n",
    "\n",
    "#  Usa a primeira linha como cabeçalho\n",
    "linhas.columns = linhas.iloc[0]\n",
    "\n",
    "#  Remove a primeira linha (que era o cabeçalho)\n",
    "df_tratado = linhas[1:].reset_index(drop=True)\n",
    "\n",
    "#  Junta as colunas adicionais ao dataframe tratado\n",
    "df_final = pd.concat([df_extra.reset_index(drop=True), df_tratado], axis=1)\n",
    "\n",
    "# Visualiza o resultado final\n",
    "display(df_final)"
   ]
  },
  {
   "cell_type": "code",
   "execution_count": 0,
   "metadata": {
    "application/vnd.databricks.v1+cell": {
     "cellMetadata": {
      "byteLimit": 2048000,
      "rowLimit": 10000
     },
     "inputWidgets": {},
     "nuid": "b6989321-42fd-43ec-aaff-9e73c584d811",
     "showTitle": false,
     "tableResultSettingsMap": {},
     "title": ""
    }
   },
   "outputs": [],
   "source": [
    " #Cria tabela gerenciada no Unity Catalog\n",
    "spark.sql(\"\"\"\n",
    "CREATE TABLE IF NOT EXISTS vitivinicultura.silver_comercializacao.comercio\n",
    "USING DELTA\n",
    "\"\"\")\n",
    "df_spark = spark.createDataFrame(df_final)\n",
    "# Escrita no formato Delta Lake\n",
    "df_spark.write \\\n",
    "    .format(\"delta\") \\\n",
    "    .mode(\"overwrite\") \\\n",
    "    .option(\"overwriteSchema\", \"true\") \\\n",
    "    .saveAsTable(\"vitivinicultura.silver_comercializacao.comercio\")\n",
    "\n"
   ]
  }
 ],
 "metadata": {
  "application/vnd.databricks.v1+notebook": {
   "computePreferences": null,
   "dashboards": [],
   "environmentMetadata": {
    "base_environment": "",
    "environment_version": "4"
   },
   "inputWidgetPreferences": null,
   "language": "python",
   "notebookMetadata": {
    "mostRecentlyExecutedCommandWithImplicitDF": {
     "commandId": 5758102080111342,
     "dataframes": [
      "_sqldf"
     ]
    },
    "pythonIndentUnit": 4
   },
   "notebookName": "silver_Comercio",
   "widgets": {}
  },
  "language_info": {
   "name": "python"
  }
 },
 "nbformat": 4,
 "nbformat_minor": 0
}
