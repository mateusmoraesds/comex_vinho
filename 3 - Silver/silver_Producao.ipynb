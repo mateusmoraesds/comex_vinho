{
 "cells": [
  {
   "cell_type": "markdown",
   "metadata": {
    "application/vnd.databricks.v1+cell": {
     "cellMetadata": {
      "byteLimit": 2048000,
      "rowLimit": 10000
     },
     "inputWidgets": {},
     "nuid": "299e0c95-1968-4047-b356-04a1e0b06c62",
     "showTitle": false,
     "tableResultSettingsMap": {},
     "title": ""
    },
    "jupyter": {
     "outputs_hidden": true
    }
   },
   "source": [
    "## Silver: Comercio"
   ]
  },
  {
   "cell_type": "code",
   "execution_count": 0,
   "metadata": {
    "application/vnd.databricks.v1+cell": {
     "cellMetadata": {
      "byteLimit": 2048000,
      "rowLimit": 10000
     },
     "inputWidgets": {},
     "nuid": "03985f5c-e306-45b0-979e-a560ba7baeb9",
     "showTitle": true,
     "tableResultSettingsMap": {},
     "title": "Importação de bibliotecas e funções padrão"
    }
   },
   "outputs": [],
   "source": [
    "%run \"../1 - Setup/Ingestao_bibliotecas_padrao\"\n"
   ]
  },
  {
   "cell_type": "code",
   "execution_count": 0,
   "metadata": {
    "application/vnd.databricks.v1+cell": {
     "cellMetadata": {
      "byteLimit": 2048000,
      "rowLimit": 10000
     },
     "inputWidgets": {},
     "nuid": "1ea4b60d-6823-42e8-986a-605e1dd46d22",
     "showTitle": false,
     "tableResultSettingsMap": {},
     "title": ""
    }
   },
   "outputs": [],
   "source": [
    "from pyspark.sql.functions import col"
   ]
  },
  {
   "cell_type": "code",
   "execution_count": 0,
   "metadata": {
    "application/vnd.databricks.v1+cell": {
     "cellMetadata": {
      "byteLimit": 2048000,
      "rowLimit": 10000
     },
     "inputWidgets": {},
     "nuid": "75bb4ca4-5813-470a-b3db-60a6595eb13f",
     "showTitle": true,
     "tableResultSettingsMap": {},
     "title": "Carregando arquivo csv da landing zone"
    }
   },
   "outputs": [],
   "source": [
    "# Lendo a tabela Delta registrada\n",
    "df = spark.table(\"vitivinicultura.bronze_comercializacao.comercio\")\n"
   ]
  },
  {
   "cell_type": "code",
   "execution_count": 0,
   "metadata": {
    "application/vnd.databricks.v1+cell": {
     "cellMetadata": {
      "byteLimit": 2048000,
      "rowLimit": 10000
     },
     "inputWidgets": {},
     "nuid": "60f29a46-0812-4694-8388-81d67b3b714d",
     "showTitle": false,
     "tableResultSettingsMap": {},
     "title": ""
    }
   },
   "outputs": [],
   "source": [
    "df_array = df.withColumn(\"_c0_array\", from_json(col(\"_c0\"), ArrayType(StringType())))\n",
    "\n",
    "# Verificamos\n",
    "df_array.show(truncate=False)"
   ]
  },
  {
   "cell_type": "code",
   "execution_count": 0,
   "metadata": {
    "application/vnd.databricks.v1+cell": {
     "cellMetadata": {
      "byteLimit": 2048000,
      "rowLimit": 10000
     },
     "inputWidgets": {},
     "nuid": "6f96d439-7848-45e5-973b-1f6dbff21103",
     "showTitle": false,
     "tableResultSettingsMap": {},
     "title": ""
    }
   },
   "outputs": [],
   "source": [
    "num_cols = len(df_array.select(\"_c0_array\").first()[0])\n",
    "colunas = [col(\"_c0_array\")[i].alias(f\"col_{i}\") for i in range(num_cols)]\n",
    "df_expandido = df_array.select(*colunas)\n",
    "\n",
    "df_expandido.show()"
   ]
  },
  {
   "cell_type": "code",
   "execution_count": 0,
   "metadata": {
    "application/vnd.databricks.v1+cell": {
     "cellMetadata": {
      "byteLimit": 2048000,
      "rowLimit": 10000
     },
     "inputWidgets": {},
     "nuid": "b6989321-42fd-43ec-aaff-9e73c584d811",
     "showTitle": false,
     "tableResultSettingsMap": {},
     "title": ""
    }
   },
   "outputs": [],
   "source": [
    "# Cria tabela gerenciada no Unity Catalog\n",
    "#spark.sql(\"\"\"\n",
    "#CREATE TABLE IF NOT EXISTS vitivinicultura.bronze_processamento.processaViniferas\n",
    "#USING DELTA\n",
    "#\"\"\")\n",
    "#\n",
    "## Escrita no formato Delta Lake\n",
    "#df.write \\\n",
    "#    .format(\"delta\") \\\n",
    "#    .mode(\"overwrite\") \\\n",
    "#    .option(\"overwriteSchema\", \"true\") \\\n",
    "#    .saveAsTable(\"vitivinicultura.bronze_processamento.processaViniferas\")\n",
    "\n"
   ]
  }
 ],
 "metadata": {
  "application/vnd.databricks.v1+notebook": {
   "computePreferences": null,
   "dashboards": [],
   "environmentMetadata": {
    "base_environment": "",
    "environment_version": "4"
   },
   "inputWidgetPreferences": null,
   "language": "python",
   "notebookMetadata": {
    "mostRecentlyExecutedCommandWithImplicitDF": {
     "commandId": 7643440466057631,
     "dataframes": [
      "_sqldf"
     ]
    },
    "pythonIndentUnit": 4
   },
   "notebookName": "silver_Producao",
   "widgets": {}
  },
  "language_info": {
   "name": "python"
  }
 },
 "nbformat": 4,
 "nbformat_minor": 0
}
