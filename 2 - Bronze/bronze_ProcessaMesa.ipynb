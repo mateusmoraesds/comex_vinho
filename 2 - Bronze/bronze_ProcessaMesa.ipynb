{
 "cells": [
  {
   "cell_type": "markdown",
   "metadata": {
    "application/vnd.databricks.v1+cell": {
     "cellMetadata": {
      "byteLimit": 2048000,
      "rowLimit": 10000
     },
     "inputWidgets": {},
     "nuid": "299e0c95-1968-4047-b356-04a1e0b06c62",
     "showTitle": false,
     "tableResultSettingsMap": {},
     "title": ""
    }
   },
   "source": [
    "# Bronze: Processa Mesa"
   ]
  },
  {
   "cell_type": "code",
   "execution_count": 0,
   "metadata": {
    "application/vnd.databricks.v1+cell": {
     "cellMetadata": {
      "byteLimit": 2048000,
      "rowLimit": 10000
     },
     "inputWidgets": {},
     "nuid": "03985f5c-e306-45b0-979e-a560ba7baeb9",
     "showTitle": true,
     "tableResultSettingsMap": {},
     "title": "Importação de bibliotecas e funções padrão"
    }
   },
   "outputs": [],
   "source": [
    "%run \"../1 - Setup/Ingestao_bibliotecas_padrao\"\n"
   ]
  },
  {
   "cell_type": "code",
   "execution_count": 0,
   "metadata": {
    "application/vnd.databricks.v1+cell": {
     "cellMetadata": {
      "byteLimit": 2048000,
      "rowLimit": 10000
     },
     "inputWidgets": {},
     "nuid": "75bb4ca4-5813-470a-b3db-60a6595eb13f",
     "showTitle": true,
     "tableResultSettingsMap": {},
     "title": "Carregando arquivo csv da landing zone"
    }
   },
   "outputs": [],
   "source": [
    "path_landing = '/Volumes/vitivinicultura/default/landing_zone/ProcessaMesa.csv'\n",
    "df_landing = spark.read.option(\"multiline\", \"true\").csv(path_landing)"
   ]
  },
  {
   "cell_type": "code",
   "execution_count": 0,
   "metadata": {
    "application/vnd.databricks.v1+cell": {
     "cellMetadata": {
      "byteLimit": 2048000,
      "rowLimit": 10000
     },
     "inputWidgets": {},
     "nuid": "3a1328b4-0e70-4969-911d-e9db13249bd7",
     "showTitle": true,
     "tableResultSettingsMap": {},
     "title": "Adicionando metadados"
    }
   },
   "outputs": [],
   "source": [
    "df = add_metadata_cols(df_landing)"
   ]
  },
  {
   "cell_type": "code",
   "execution_count": 0,
   "metadata": {
    "application/vnd.databricks.v1+cell": {
     "cellMetadata": {
      "byteLimit": 2048000,
      "rowLimit": 10000
     },
     "inputWidgets": {},
     "nuid": "b6989321-42fd-43ec-aaff-9e73c584d811",
     "showTitle": false,
     "tableResultSettingsMap": {},
     "title": ""
    }
   },
   "outputs": [],
   "source": [
    "# Cria tabela gerenciada no Unity Catalog\n",
    "spark.sql(\"\"\"\n",
    "CREATE TABLE IF NOT EXISTS vitivinicultura.bronze_processamento.processaMesa\n",
    "USING DELTA\n",
    "\"\"\")\n",
    "\n",
    "# Escrita no formato Delta Lake\n",
    "df.write \\\n",
    "    .format(\"delta\") \\\n",
    "    .mode(\"overwrite\") \\\n",
    "    .option(\"overwriteSchema\", \"true\") \\\n",
    "    .saveAsTable(\"vitivinicultura.bronze_processamento.processaMesa\")\n",
    "\n"
   ]
  }
 ],
 "metadata": {
  "application/vnd.databricks.v1+notebook": {
   "computePreferences": null,
   "dashboards": [],
   "environmentMetadata": {
    "base_environment": "",
    "environment_version": "4"
   },
   "inputWidgetPreferences": null,
   "language": "python",
   "notebookMetadata": {
    "mostRecentlyExecutedCommandWithImplicitDF": {
     "commandId": 7643440466057581,
     "dataframes": [
      "_sqldf"
     ]
    },
    "pythonIndentUnit": 4
   },
   "notebookName": "bronze_ProcessaMesa",
   "widgets": {}
  },
  "language_info": {
   "name": "python"
  }
 },
 "nbformat": 4,
 "nbformat_minor": 0
}
